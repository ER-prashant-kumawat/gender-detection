{
 "cells": [
  {
   "cell_type": "code",
   "execution_count": 1,
   "id": "336b9c66-ccc8-4593-9cb5-e876c820886c",
   "metadata": {},
   "outputs": [
    {
     "data": {
      "application/vnd.jupyter.widget-view+json": {
       "model_id": "e45bb0a1d7644c61b1d3a6b44e8b4711",
       "version_major": 2,
       "version_minor": 0
      },
      "text/plain": [
       "Button(description='Start Webcam', style=ButtonStyle())"
      ]
     },
     "metadata": {},
     "output_type": "display_data"
    }
   ],
   "source": [
    "import cv2\n",
    "import numpy as np\n",
    "from IPython.display import display, clear_output\n",
    "from ipywidgets import widgets\n",
    "from IPython.display import Image\n",
    "import threading\n",
    "\n",
    "# Constants for the gender detection model\n",
    "MODEL_MEAN_VALUES = (78.4263377603, 87.7689143744, 114.895847746)\n",
    "GENDER_LIST = ['Male', 'Female']\n",
    "\n",
    "# Load gender detection model (Caffe model)\n",
    "gender_net = cv2.dnn.readNetFromCaffe(\n",
    "    'gender_deploy.prototxt', \n",
    "    'gender_net.caffemodel'\n",
    ")\n",
    "\n",
    "# Load pre-trained face detection model\n",
    "face_detector = cv2.CascadeClassifier(cv2.data.haarcascades + 'haarcascade_frontalface_default.xml')\n",
    "\n",
    "# Control variables\n",
    "cap = None\n",
    "is_running = False\n",
    "\n",
    "def analyze_frame(frame):\n",
    "    \"\"\"Detect faces and classify gender within the frame.\"\"\"\n",
    "    gray_frame = cv2.cvtColor(frame, cv2.COLOR_BGR2GRAY)\n",
    "    faces = face_detector.detectMultiScale(gray_frame, scaleFactor=1.1, minNeighbors=5)\n",
    "\n",
    "    for (x, y, w, h) in faces:\n",
    "        face_region = frame[y:y+h, x:x+w]\n",
    "        blob = cv2.dnn.blobFromImage(face_region, 1.0, (227, 227), MODEL_MEAN_VALUES, swapRB=False)\n",
    "        \n",
    "        gender_net.setInput(blob)\n",
    "        gender_preds = gender_net.forward()\n",
    "        gender_label = GENDER_LIST[gender_preds[0].argmax()]\n",
    "        \n",
    "        color = (0, 255, 0) if gender_label == 'Female' else (0, 0, 255)\n",
    "        cv2.rectangle(frame, (x, y), (x+w, y+h), color, 2)\n",
    "        cv2.putText(frame, gender_label, (x, y-10), cv2.FONT_HERSHEY_SIMPLEX, 0.9, color, 2)\n",
    "        \n",
    "    return frame\n",
    "\n",
    "def webcam_stream():\n",
    "    \"\"\"Capture video stream, process frames, and display in the notebook.\"\"\"\n",
    "    global cap, is_running\n",
    "    if cap is None:\n",
    "        cap = cv2.VideoCapture(0)\n",
    "    \n",
    "    while is_running:\n",
    "        success, frame = cap.read()\n",
    "        if not success:\n",
    "            break\n",
    "        frame = cv2.flip(frame, 1)\n",
    "        processed_frame = analyze_frame(frame)\n",
    "        \n",
    "        # Display processed frame in the notebook\n",
    "        _, buffer = cv2.imencode('.jpg', cv2.cvtColor(processed_frame, cv2.COLOR_BGR2RGB))\n",
    "        display(Image(data=buffer.tobytes()))\n",
    "        clear_output(wait=True)\n",
    "        \n",
    "        if cv2.waitKey(1) & 0xFF == ord('q'):\n",
    "            break\n",
    "            \n",
    "    cap.release()\n",
    "    cv2.destroyAllWindows()\n",
    "    display(start_button)\n",
    "\n",
    "def toggle_webcam(button):\n",
    "    \"\"\"Toggle webcam streaming on button click.\"\"\"\n",
    "    global is_running\n",
    "    is_running = not is_running\n",
    "    if is_running:\n",
    "        threading.Thread(target=webcam_stream).start()\n",
    "\n",
    "# Create and display start button\n",
    "start_button = widgets.Button(description=\"Start Webcam\")\n",
    "start_button.on_click(toggle_webcam)\n",
    "display(start_button)\n"
   ]
  },
  {
   "cell_type": "code",
   "execution_count": null,
   "id": "eea33411-5dce-4072-ba0d-2740cf08962f",
   "metadata": {},
   "outputs": [],
   "source": []
  }
 ],
 "metadata": {
  "kernelspec": {
   "display_name": "Python 3 (ipykernel)",
   "language": "python",
   "name": "python3"
  },
  "language_info": {
   "codemirror_mode": {
    "name": "ipython",
    "version": 3
   },
   "file_extension": ".py",
   "mimetype": "text/x-python",
   "name": "python",
   "nbconvert_exporter": "python",
   "pygments_lexer": "ipython3",
   "version": "3.12.7"
  }
 },
 "nbformat": 4,
 "nbformat_minor": 5
}
